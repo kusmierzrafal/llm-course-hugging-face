{
 "cells": [
  {
   "cell_type": "markdown",
   "id": "e6307a6e",
   "metadata": {
    "id": "e6307a6e"
   },
   "source": [
    "# Fine-tuning a pretrained models"
   ]
  },
  {
   "cell_type": "markdown",
   "id": "a7ad7fe0",
   "metadata": {
    "id": "a7ad7fe0"
   },
   "source": [
    "## Processing the data"
   ]
  },
  {
   "cell_type": "code",
   "execution_count": null,
   "id": "fe83578a",
   "metadata": {
    "colab": {
     "base_uri": "https://localhost:8080/"
    },
    "executionInfo": {
     "elapsed": 1531,
     "status": "ok",
     "timestamp": 1753280589552,
     "user": {
      "displayName": "Rafał Kuśmierz",
      "userId": "04197265197636411235"
     },
     "user_tz": -120
    },
    "id": "fe83578a",
    "outputId": "0f6f348b-98b4-44a8-97ba-1e4b2f135abe"
   },
   "outputs": [
    {
     "name": "stderr",
     "output_type": "stream",
     "text": [
      "Some weights of BertForSequenceClassification were not initialized from the model checkpoint at bert-base-uncased and are newly initialized: ['classifier.bias', 'classifier.weight']\n",
      "You should probably TRAIN this model on a down-stream task to be able to use it for predictions and inference.\n"
     ]
    }
   ],
   "source": [
    "import torch\n",
    "from torch.optim import AdamW\n",
    "from transformers import AutoTokenizer, AutoModelForSequenceClassification\n",
    "\n",
    "# Same as before\n",
    "checkpoint = \"bert-base-uncased\"\n",
    "tokenizer = AutoTokenizer.from_pretrained(checkpoint)\n",
    "model = AutoModelForSequenceClassification.from_pretrained(checkpoint)\n",
    "sequences = [\n",
    "    \"I've been waiting for a HuggingFace course my whole life.\",\n",
    "    \"This course is amazing!\",\n",
    "]\n",
    "batch = tokenizer(sequences, padding=True, truncation=True, return_tensors=\"pt\")\n",
    "\n",
    "# This is new\n",
    "batch[\"labels\"] = torch.tensor([1, 1])\n",
    "\n",
    "optimizer = AdamW(model.parameters())\n",
    "loss = model(**batch).loss\n",
    "loss.backward()\n",
    "optimizer.step()"
   ]
  },
  {
   "cell_type": "markdown",
   "id": "a3211d71",
   "metadata": {
    "id": "a3211d71"
   },
   "source": [
    "### Loading a dataset from the Hub"
   ]
  },
  {
   "cell_type": "code",
   "execution_count": null,
   "id": "6d94da7c",
   "metadata": {
    "id": "6d94da7c"
   },
   "outputs": [],
   "source": [
    "!pip install -qU datasets huggingface_hub fsspec               # latest stable as of July 2025"
   ]
  },
  {
   "cell_type": "code",
   "execution_count": null,
   "id": "d4ca4d2d",
   "metadata": {
    "colab": {
     "base_uri": "https://localhost:8080/"
    },
    "executionInfo": {
     "elapsed": 2112,
     "status": "ok",
     "timestamp": 1753280597025,
     "user": {
      "displayName": "Rafał Kuśmierz",
      "userId": "04197265197636411235"
     },
     "user_tz": -120
    },
    "id": "d4ca4d2d",
    "outputId": "7f55f434-9459-4aae-864d-82a40b8c8246"
   },
   "outputs": [
    {
     "data": {
      "text/plain": [
       "DatasetDict({\n",
       "    train: Dataset({\n",
       "        features: ['sentence1', 'sentence2', 'label', 'idx'],\n",
       "        num_rows: 3668\n",
       "    })\n",
       "    validation: Dataset({\n",
       "        features: ['sentence1', 'sentence2', 'label', 'idx'],\n",
       "        num_rows: 408\n",
       "    })\n",
       "    test: Dataset({\n",
       "        features: ['sentence1', 'sentence2', 'label', 'idx'],\n",
       "        num_rows: 1725\n",
       "    })\n",
       "})"
      ]
     },
     "execution_count": 26,
     "metadata": {},
     "output_type": "execute_result"
    }
   ],
   "source": [
    "from datasets import load_dataset\n",
    "\n",
    "raw_datasets = load_dataset(\"glue\", \"mrpc\")\n",
    "raw_datasets"
   ]
  },
  {
   "cell_type": "code",
   "execution_count": null,
   "id": "0352de5c",
   "metadata": {
    "colab": {
     "base_uri": "https://localhost:8080/"
    },
    "executionInfo": {
     "elapsed": 8,
     "status": "ok",
     "timestamp": 1753280597035,
     "user": {
      "displayName": "Rafał Kuśmierz",
      "userId": "04197265197636411235"
     },
     "user_tz": -120
    },
    "id": "0352de5c",
    "outputId": "056dfd9d-f7a4-47f0-b9d5-f5515fa6c1aa"
   },
   "outputs": [
    {
     "data": {
      "text/plain": [
       "{'sentence1': \"Yucaipa owned Dominick 's before selling the chain to Safeway in 1998 for $ 2.5 billion .\",\n",
       " 'sentence2': \"Yucaipa bought Dominick 's in 1995 for $ 693 million and sold it to Safeway for $ 1.8 billion in 1998 .\",\n",
       " 'label': 0,\n",
       " 'idx': 1}"
      ]
     },
     "execution_count": 27,
     "metadata": {},
     "output_type": "execute_result"
    }
   ],
   "source": [
    "raw_train_dataset = raw_datasets[\"train\"]\n",
    "raw_train_dataset[1]"
   ]
  },
  {
   "cell_type": "code",
   "execution_count": null,
   "id": "e12fd754",
   "metadata": {
    "colab": {
     "base_uri": "https://localhost:8080/"
    },
    "executionInfo": {
     "elapsed": 7,
     "status": "ok",
     "timestamp": 1753280597058,
     "user": {
      "displayName": "Rafał Kuśmierz",
      "userId": "04197265197636411235"
     },
     "user_tz": -120
    },
    "id": "e12fd754",
    "outputId": "ff4f410d-1522-43a6-b185-b0a7c22ca149"
   },
   "outputs": [
    {
     "data": {
      "text/plain": [
       "{'sentence1': Value('string'),\n",
       " 'sentence2': Value('string'),\n",
       " 'label': ClassLabel(names=['not_equivalent', 'equivalent']),\n",
       " 'idx': Value('int32')}"
      ]
     },
     "execution_count": 28,
     "metadata": {},
     "output_type": "execute_result"
    }
   ],
   "source": [
    "raw_train_dataset.features"
   ]
  },
  {
   "cell_type": "markdown",
   "id": "cf305e40",
   "metadata": {
    "id": "cf305e40"
   },
   "source": [
    "### Preprocessing a dataset"
   ]
  },
  {
   "cell_type": "code",
   "execution_count": null,
   "id": "f5cfe20d",
   "metadata": {
    "colab": {
     "base_uri": "https://localhost:8080/"
    },
    "executionInfo": {
     "elapsed": 285,
     "status": "ok",
     "timestamp": 1753280597351,
     "user": {
      "displayName": "Rafał Kuśmierz",
      "userId": "04197265197636411235"
     },
     "user_tz": -120
    },
    "id": "f5cfe20d",
    "outputId": "6a83e83d-d940-4d27-8c6a-fb0c2ff72b47"
   },
   "outputs": [
    {
     "data": {
      "text/plain": [
       "{'input_ids': [101, 2023, 2003, 1996, 2034, 6251, 1012, 102, 2023, 2003, 1996, 2117, 2028, 1012, 102], 'token_type_ids': [0, 0, 0, 0, 0, 0, 0, 0, 1, 1, 1, 1, 1, 1, 1], 'attention_mask': [1, 1, 1, 1, 1, 1, 1, 1, 1, 1, 1, 1, 1, 1, 1]}"
      ]
     },
     "execution_count": 29,
     "metadata": {},
     "output_type": "execute_result"
    }
   ],
   "source": [
    "from transformers import AutoTokenizer\n",
    "\n",
    "checkpoint = \"bert-base-uncased\"\n",
    "tokenizer = AutoTokenizer.from_pretrained(checkpoint)\n",
    "inputs = tokenizer(\"This is the first sentence.\", \"This is the second one.\")\n",
    "inputs"
   ]
  },
  {
   "cell_type": "code",
   "execution_count": null,
   "id": "725f181f",
   "metadata": {
    "id": "725f181f"
   },
   "outputs": [],
   "source": [
    "tokenized_sentences_1 = tokenizer(list(raw_datasets[\"train\"][\"sentence1\"]))\n",
    "tokenized_sentences_2 = tokenizer(list(raw_datasets[\"train\"][\"sentence2\"]))"
   ]
  },
  {
   "cell_type": "code",
   "execution_count": null,
   "id": "c3c2f5d0",
   "metadata": {
    "colab": {
     "base_uri": "https://localhost:8080/"
    },
    "executionInfo": {
     "elapsed": 15,
     "status": "ok",
     "timestamp": 1753280597665,
     "user": {
      "displayName": "Rafał Kuśmierz",
      "userId": "04197265197636411235"
     },
     "user_tz": -120
    },
    "id": "c3c2f5d0",
    "outputId": "5b4f6cd0-52e1-4bdb-8935-2e0f187451bf"
   },
   "outputs": [
    {
     "data": {
      "text/plain": [
       "{'input_ids': [101, 2023, 2003, 1996, 2034, 6251, 1012, 102, 2023, 2003, 1996, 2117, 2028, 1012, 102], 'token_type_ids': [0, 0, 0, 0, 0, 0, 0, 0, 1, 1, 1, 1, 1, 1, 1], 'attention_mask': [1, 1, 1, 1, 1, 1, 1, 1, 1, 1, 1, 1, 1, 1, 1]}"
      ]
     },
     "execution_count": 31,
     "metadata": {},
     "output_type": "execute_result"
    }
   ],
   "source": [
    "inputs = tokenizer(\"This is the first sentence.\", \"This is the second one.\")\n",
    "inputs"
   ]
  },
  {
   "cell_type": "code",
   "execution_count": null,
   "id": "b6a6c2d8",
   "metadata": {
    "colab": {
     "base_uri": "https://localhost:8080/"
    },
    "executionInfo": {
     "elapsed": 8,
     "status": "ok",
     "timestamp": 1753280597675,
     "user": {
      "displayName": "Rafał Kuśmierz",
      "userId": "04197265197636411235"
     },
     "user_tz": -120
    },
    "id": "b6a6c2d8",
    "outputId": "7449ec59-2340-4e9b-823e-7b50eb09a980"
   },
   "outputs": [
    {
     "data": {
      "text/plain": [
       "['[CLS]',\n",
       " 'this',\n",
       " 'is',\n",
       " 'the',\n",
       " 'first',\n",
       " 'sentence',\n",
       " '.',\n",
       " '[SEP]',\n",
       " 'this',\n",
       " 'is',\n",
       " 'the',\n",
       " 'second',\n",
       " 'one',\n",
       " '.',\n",
       " '[SEP]']"
      ]
     },
     "execution_count": 32,
     "metadata": {},
     "output_type": "execute_result"
    }
   ],
   "source": [
    "tokenizer.convert_ids_to_tokens(inputs[\"input_ids\"])\n"
   ]
  },
  {
   "cell_type": "code",
   "execution_count": null,
   "id": "966ac1e9",
   "metadata": {
    "id": "966ac1e9"
   },
   "outputs": [],
   "source": [
    "tokenized_dataset = tokenizer(\n",
    "    list(raw_datasets[\"train\"][\"sentence1\"]),\n",
    "    list(raw_datasets[\"train\"][\"sentence2\"]),\n",
    "    padding=True,\n",
    "    truncation=True,\n",
    ")"
   ]
  },
  {
   "cell_type": "code",
   "execution_count": null,
   "id": "822d60e1",
   "metadata": {
    "colab": {
     "base_uri": "https://localhost:8080/"
    },
    "executionInfo": {
     "elapsed": 19,
     "status": "ok",
     "timestamp": 1753280597989,
     "user": {
      "displayName": "Rafał Kuśmierz",
      "userId": "04197265197636411235"
     },
     "user_tz": -120
    },
    "id": "822d60e1",
    "outputId": "82d84be9-dd76-4261-e23f-11544e182e93"
   },
   "outputs": [
    {
     "name": "stdout",
     "output_type": "stream",
     "text": [
      "<class 'transformers.tokenization_utils_base.BatchEncoding'>\n"
     ]
    }
   ],
   "source": [
    "print(type(tokenized_dataset))"
   ]
  },
  {
   "cell_type": "code",
   "execution_count": null,
   "id": "e2228249",
   "metadata": {
    "id": "e2228249"
   },
   "outputs": [],
   "source": [
    "def tokenize_function(example):\n",
    "    return tokenizer(example[\"sentence1\"], example[\"sentence2\"], truncation=True)"
   ]
  },
  {
   "cell_type": "code",
   "execution_count": null,
   "id": "03e9e851",
   "metadata": {
    "colab": {
     "base_uri": "https://localhost:8080/",
     "height": 351,
     "referenced_widgets": [
      "27e85f71e45e4c37976af968ff82334e",
      "a432ccc85f14466f9006ec182b9d689a",
      "e3a9dd3ed3f14940b09308a4c6629c55",
      "463a6c612b7f4f63a9c5cdd4ff590c4b",
      "2ab3104b93944c549a9ae476f1c9f81a",
      "bfc920136b7d442493cb3d431381ed3e",
      "e405df477ada4f0ebd8d3d2452de2d5e",
      "4ec3e178e7894755b1c1246b031f4867",
      "df8d1074a5e043e0ade4a3d4619432c2",
      "6d8c35c4a61e4f8a83035eedc0caebe9",
      "290983efdbdf49749f7b41294eb6f522",
      "187295739b1649a4867394dd86054c1e",
      "fcbd97d9a695402792ca1284cc8197cb",
      "0b0c6d9a05eb421fb08bc701f31b816b",
      "785eaf4ee5734b7094a0114847e7fb55",
      "0f6ffa62bddf4c9eb7b20860d16e70f1",
      "16dad32aacf948609b2ec93c0d429b57",
      "2bc89fa6d58a4b37b2a840e2144d05b3",
      "c68a09f8cd1e4e28af1f1da159e7559c",
      "77bcd701eddd4304bf54a59eb4f4e419",
      "3deab2080b9c417f86d7e6a4136739ab",
      "846e61c120d14695ab95e06b356f461f",
      "f4d86ae4ff204d1787ac958316aaded8",
      "3f5e265e31234fd99275fa612fe86d74",
      "c4614876e33148e3bae878090cb3a7a9",
      "ac9e90b1a3894def8796bcf7cf61481e",
      "7b0b9cc450f04253aa6474ae35803948",
      "ac387904390c439989b1dc6382e75364",
      "d8e72e5228984355b0193c11b7e2eb91",
      "38addc4fb29e4184bb677c7517ad9355",
      "c190e0495efd4bcb9781e295e685ea37",
      "da94f25862214a8383d503a2cef66d2e",
      "899332ed8b484745b44b404385b79882"
     ]
    },
    "executionInfo": {
     "elapsed": 584,
     "status": "ok",
     "timestamp": 1753280598586,
     "user": {
      "displayName": "Rafał Kuśmierz",
      "userId": "04197265197636411235"
     },
     "user_tz": -120
    },
    "id": "03e9e851",
    "outputId": "39d19d86-4871-493b-a2f7-d32f7e0233ef"
   },
   "outputs": [
    {
     "data": {
      "application/vnd.jupyter.widget-view+json": {
       "model_id": "27e85f71e45e4c37976af968ff82334e",
       "version_major": 2,
       "version_minor": 0
      },
      "text/plain": [
       "Map:   0%|          | 0/3668 [00:00<?, ? examples/s]"
      ]
     },
     "metadata": {},
     "output_type": "display_data"
    },
    {
     "data": {
      "application/vnd.jupyter.widget-view+json": {
       "model_id": "187295739b1649a4867394dd86054c1e",
       "version_major": 2,
       "version_minor": 0
      },
      "text/plain": [
       "Map:   0%|          | 0/408 [00:00<?, ? examples/s]"
      ]
     },
     "metadata": {},
     "output_type": "display_data"
    },
    {
     "data": {
      "application/vnd.jupyter.widget-view+json": {
       "model_id": "f4d86ae4ff204d1787ac958316aaded8",
       "version_major": 2,
       "version_minor": 0
      },
      "text/plain": [
       "Map:   0%|          | 0/1725 [00:00<?, ? examples/s]"
      ]
     },
     "metadata": {},
     "output_type": "display_data"
    },
    {
     "data": {
      "text/plain": [
       "DatasetDict({\n",
       "    train: Dataset({\n",
       "        features: ['sentence1', 'sentence2', 'label', 'idx', 'input_ids', 'token_type_ids', 'attention_mask'],\n",
       "        num_rows: 3668\n",
       "    })\n",
       "    validation: Dataset({\n",
       "        features: ['sentence1', 'sentence2', 'label', 'idx', 'input_ids', 'token_type_ids', 'attention_mask'],\n",
       "        num_rows: 408\n",
       "    })\n",
       "    test: Dataset({\n",
       "        features: ['sentence1', 'sentence2', 'label', 'idx', 'input_ids', 'token_type_ids', 'attention_mask'],\n",
       "        num_rows: 1725\n",
       "    })\n",
       "})"
      ]
     },
     "execution_count": 36,
     "metadata": {},
     "output_type": "execute_result"
    }
   ],
   "source": [
    "tokenized_datasets = raw_datasets.map(tokenize_function, batched=True)\n",
    "tokenized_datasets"
   ]
  },
  {
   "cell_type": "markdown",
   "id": "5a06cbaa",
   "metadata": {
    "id": "5a06cbaa"
   },
   "source": [
    "### Dynamic padding"
   ]
  },
  {
   "cell_type": "code",
   "execution_count": null,
   "id": "78cab9d5",
   "metadata": {
    "id": "78cab9d5"
   },
   "outputs": [],
   "source": [
    "from transformers import DataCollatorWithPadding\n",
    "\n",
    "data_collator = DataCollatorWithPadding(tokenizer=tokenizer)"
   ]
  },
  {
   "cell_type": "code",
   "execution_count": null,
   "id": "0e8d24ff",
   "metadata": {
    "colab": {
     "base_uri": "https://localhost:8080/"
    },
    "executionInfo": {
     "elapsed": 6,
     "status": "ok",
     "timestamp": 1753280598598,
     "user": {
      "displayName": "Rafał Kuśmierz",
      "userId": "04197265197636411235"
     },
     "user_tz": -120
    },
    "id": "0e8d24ff",
    "outputId": "88d909cf-ed6a-4ef4-8553-f112af63a4bd"
   },
   "outputs": [
    {
     "data": {
      "text/plain": [
       "[50, 59, 47, 67, 59, 50, 62, 32]"
      ]
     },
     "execution_count": 38,
     "metadata": {},
     "output_type": "execute_result"
    }
   ],
   "source": [
    "samples = tokenized_datasets[\"train\"][:8]\n",
    "samples = {k: v for k, v in samples.items() if k not in [\"idx\", \"sentence1\", \"sentence2\"]}\n",
    "[len(x) for x in samples[\"input_ids\"]]"
   ]
  },
  {
   "cell_type": "code",
   "execution_count": null,
   "id": "f9db594c",
   "metadata": {
    "colab": {
     "base_uri": "https://localhost:8080/"
    },
    "executionInfo": {
     "elapsed": 5,
     "status": "ok",
     "timestamp": 1753280598605,
     "user": {
      "displayName": "Rafał Kuśmierz",
      "userId": "04197265197636411235"
     },
     "user_tz": -120
    },
    "id": "f9db594c",
    "outputId": "0ad0ae05-45b4-45b9-f6b7-e33ecef60e42"
   },
   "outputs": [
    {
     "data": {
      "text/plain": [
       "{'input_ids': torch.Size([8, 67]),\n",
       " 'token_type_ids': torch.Size([8, 67]),\n",
       " 'attention_mask': torch.Size([8, 67]),\n",
       " 'labels': torch.Size([8])}"
      ]
     },
     "execution_count": 39,
     "metadata": {},
     "output_type": "execute_result"
    }
   ],
   "source": [
    "batch = data_collator(samples)\n",
    "{k: v.shape for k, v in batch.items()}"
   ]
  },
  {
   "cell_type": "markdown",
   "id": "cb83812d",
   "metadata": {
    "id": "cb83812d"
   },
   "source": [
    "## Fine-tuning a model with the Trainer API"
   ]
  },
  {
   "cell_type": "code",
   "execution_count": null,
   "id": "1d0fc2b4",
   "metadata": {
    "colab": {
     "base_uri": "https://localhost:8080/",
     "height": 113,
     "referenced_widgets": [
      "f8e2173cfb314c1ab533b5919cb71143",
      "b89d46d025c546d3956374ca94ad9d16",
      "b44b161f42424f7fa0812e4aaf88a4cd",
      "31c5b19613284281b2e901b098d209d8",
      "318d273ca76e466386adf1d97b5d426c",
      "5886b42bb2024ac4b9b2beded3d6a9ce",
      "37fb2ac71e7d462aaccbc8d87a5062c0",
      "6b2bc7f9dfbb42aea9fc8de232cfc820",
      "a89913088d134979b7d8c00f1367f695",
      "e122b07ce2564eba96e0f39c9400652b",
      "d030f3ea8e9b4a378dbdb619f8085060",
      "4028c12cdc964f56a7c25a91e72ef5f5",
      "179c7798295f4fe98dd680b7c295f9bb",
      "4a86e91085e44faca6f4454d25299b69",
      "9035f2d0d2d74c399c67daef1b5d42ed",
      "352d7f9d66a74db0b928b2e04c45f86f",
      "6039d08c20a04e59808bef44fd9a4e12",
      "13544eef08434e4fa478d507a25fa4f4",
      "f86f9d6d06cf4399ab6eb804d4e49527",
      "39b50a0bdeb04378a159ab24507fb783",
      "a6dacc7b5ee348a9944af2b4011cd8c7",
      "dcb40af70d5a4e02b897487c8beb353d",
      "193a16cd88654b30827263cf11c9875c",
      "d5f9ce3a4a684a52a8dfa02f36e63438",
      "6fafcf839f9b405d985edba512dd19c9",
      "5991ad5414be46a5a237b0460675efaa",
      "9bc366e7e8de4eea878c8f59857f8578",
      "a35367f01e0e431ea55c5768b1aa1430",
      "c307d971e4a2437ebbd2a35630034d2a",
      "dad99ff6b3174d4ab9980edaac34b573",
      "2951ff7e473c4f838487abbf73288ab2",
      "8bbbd10cfb9641948f604ff73b5bb335",
      "2fcd6661bfdc403b9a0dac7991385d38"
     ]
    },
    "executionInfo": {
     "elapsed": 2803,
     "status": "ok",
     "timestamp": 1753280601409,
     "user": {
      "displayName": "Rafał Kuśmierz",
      "userId": "04197265197636411235"
     },
     "user_tz": -120
    },
    "id": "1d0fc2b4",
    "outputId": "8ad01e50-1634-4dc4-9c13-b551b9c1c12a"
   },
   "outputs": [
    {
     "data": {
      "application/vnd.jupyter.widget-view+json": {
       "model_id": "f8e2173cfb314c1ab533b5919cb71143",
       "version_major": 2,
       "version_minor": 0
      },
      "text/plain": [
       "Map:   0%|          | 0/3668 [00:00<?, ? examples/s]"
      ]
     },
     "metadata": {},
     "output_type": "display_data"
    },
    {
     "data": {
      "application/vnd.jupyter.widget-view+json": {
       "model_id": "4028c12cdc964f56a7c25a91e72ef5f5",
       "version_major": 2,
       "version_minor": 0
      },
      "text/plain": [
       "Map:   0%|          | 0/408 [00:00<?, ? examples/s]"
      ]
     },
     "metadata": {},
     "output_type": "display_data"
    },
    {
     "data": {
      "application/vnd.jupyter.widget-view+json": {
       "model_id": "193a16cd88654b30827263cf11c9875c",
       "version_major": 2,
       "version_minor": 0
      },
      "text/plain": [
       "Map:   0%|          | 0/1725 [00:00<?, ? examples/s]"
      ]
     },
     "metadata": {},
     "output_type": "display_data"
    }
   ],
   "source": [
    "from datasets import load_dataset\n",
    "from transformers import AutoTokenizer, DataCollatorWithPadding\n",
    "\n",
    "raw_datasets = load_dataset(\"glue\", \"mrpc\")\n",
    "checkpoint = \"bert-base-uncased\"\n",
    "tokenizer = AutoTokenizer.from_pretrained(checkpoint)\n",
    "\n",
    "\n",
    "def tokenize_function(example):\n",
    "    return tokenizer(example[\"sentence1\"], example[\"sentence2\"], truncation=True)\n",
    "\n",
    "\n",
    "tokenized_datasets = raw_datasets.map(tokenize_function, batched=True)\n",
    "data_collator = DataCollatorWithPadding(tokenizer=tokenizer)"
   ]
  },
  {
   "cell_type": "code",
   "execution_count": null,
   "id": "b7c6e41e",
   "metadata": {
    "colab": {
     "base_uri": "https://localhost:8080/"
    },
    "executionInfo": {
     "elapsed": 36,
     "status": "ok",
     "timestamp": 1753280919151,
     "user": {
      "displayName": "Rafał Kuśmierz",
      "userId": "04197265197636411235"
     },
     "user_tz": -120
    },
    "id": "b7c6e41e",
    "outputId": "ec7aa55a-345e-4812-f930-12d666968760"
   },
   "outputs": [
    {
     "name": "stderr",
     "output_type": "stream",
     "text": [
      "Using the `WANDB_DISABLED` environment variable is deprecated and will be removed in v5. Use the --report_to flag to control the integrations used for logging result (for instance --report_to none).\n"
     ]
    }
   ],
   "source": [
    "from transformers import TrainingArguments\n",
    "import os\n",
    "\n",
    "os.environ[\"WANDB_DISABLED\"] = \"true\"\n",
    "training_args = TrainingArguments(\n",
    "    \"test-trainer\",\n",
    "    report_to=None    # to disable wandb and other logging\n",
    ")"
   ]
  },
  {
   "cell_type": "code",
   "execution_count": null,
   "id": "c684cdd5",
   "metadata": {
    "colab": {
     "base_uri": "https://localhost:8080/"
    },
    "executionInfo": {
     "elapsed": 234,
     "status": "ok",
     "timestamp": 1753280922173,
     "user": {
      "displayName": "Rafał Kuśmierz",
      "userId": "04197265197636411235"
     },
     "user_tz": -120
    },
    "id": "c684cdd5",
    "outputId": "f1cd50cb-f762-4c43-c863-8f74c3509f68"
   },
   "outputs": [
    {
     "name": "stderr",
     "output_type": "stream",
     "text": [
      "Some weights of BertForSequenceClassification were not initialized from the model checkpoint at bert-base-uncased and are newly initialized: ['classifier.bias', 'classifier.weight']\n",
      "You should probably TRAIN this model on a down-stream task to be able to use it for predictions and inference.\n"
     ]
    }
   ],
   "source": [
    "from transformers import AutoModelForSequenceClassification\n",
    "\n",
    "model = AutoModelForSequenceClassification.from_pretrained(checkpoint, num_labels=2)"
   ]
  },
  {
   "cell_type": "code",
   "execution_count": null,
   "id": "5297ce54",
   "metadata": {
    "id": "5297ce54"
   },
   "outputs": [],
   "source": [
    "from transformers import Trainer\n",
    "\n",
    "trainer = Trainer(\n",
    "    model,\n",
    "    training_args,\n",
    "    train_dataset=tokenized_datasets[\"train\"],\n",
    "    eval_dataset=tokenized_datasets[\"validation\"],\n",
    "    data_collator=data_collator,\n",
    "    processing_class=tokenizer,\n",
    ")"
   ]
  },
  {
   "cell_type": "code",
   "execution_count": null,
   "id": "d5ce1f28",
   "metadata": {
    "colab": {
     "base_uri": "https://localhost:8080/"
    },
    "executionInfo": {
     "elapsed": 43,
     "status": "ok",
     "timestamp": 1753280601846,
     "user": {
      "displayName": "Rafał Kuśmierz",
      "userId": "04197265197636411235"
     },
     "user_tz": -120
    },
    "id": "d5ce1f28",
    "outputId": "665f5099-bb06-4b8a-a179-13034e468e49"
   },
   "outputs": [
    {
     "data": {
      "text/plain": [
       "True"
      ]
     },
     "execution_count": 44,
     "metadata": {},
     "output_type": "execute_result"
    }
   ],
   "source": [
    "import torch\n",
    "\n",
    "torch.cuda.is_available()"
   ]
  },
  {
   "cell_type": "code",
   "execution_count": null,
   "id": "f7e11eb0",
   "metadata": {
    "colab": {
     "base_uri": "https://localhost:8080/"
    },
    "executionInfo": {
     "elapsed": 4,
     "status": "ok",
     "timestamp": 1753280601851,
     "user": {
      "displayName": "Rafał Kuśmierz",
      "userId": "04197265197636411235"
     },
     "user_tz": -120
    },
    "id": "f7e11eb0",
    "outputId": "c1add3e9-b7ec-4830-c0d0-b0df156d9ca8"
   },
   "outputs": [
    {
     "data": {
      "text/plain": [
       "device(type='cuda', index=0)"
      ]
     },
     "execution_count": 45,
     "metadata": {},
     "output_type": "execute_result"
    }
   ],
   "source": [
    "trainer.args.device"
   ]
  },
  {
   "cell_type": "markdown",
   "id": "56d293f6",
   "metadata": {
    "id": "56d293f6"
   },
   "source": [
    "### Evaluation"
   ]
  },
  {
   "cell_type": "code",
   "execution_count": null,
   "id": "02fad709",
   "metadata": {
    "colab": {
     "base_uri": "https://localhost:8080/",
     "height": 34
    },
    "executionInfo": {
     "elapsed": 835,
     "status": "ok",
     "timestamp": 1753280952695,
     "user": {
      "displayName": "Rafał Kuśmierz",
      "userId": "04197265197636411235"
     },
     "user_tz": -120
    },
    "id": "02fad709",
    "outputId": "4ede3c3b-93e1-4d36-c5fb-57b87c671946"
   },
   "outputs": [
    {
     "data": {
      "text/html": [],
      "text/plain": [
       "<IPython.core.display.HTML object>"
      ]
     },
     "metadata": {},
     "output_type": "display_data"
    },
    {
     "name": "stdout",
     "output_type": "stream",
     "text": [
      "(408, 2) (408,)\n"
     ]
    }
   ],
   "source": [
    "predictions = trainer.predict(tokenized_datasets[\"validation\"])\n",
    "print(predictions.predictions.shape, predictions.label_ids.shape)\n"
   ]
  },
  {
   "cell_type": "code",
   "execution_count": null,
   "id": "pc2wq7IgsH4T",
   "metadata": {
    "colab": {
     "base_uri": "https://localhost:8080/"
    },
    "executionInfo": {
     "elapsed": 23,
     "status": "ok",
     "timestamp": 1753280974995,
     "user": {
      "displayName": "Rafał Kuśmierz",
      "userId": "04197265197636411235"
     },
     "user_tz": -120
    },
    "id": "pc2wq7IgsH4T",
    "outputId": "88b45d8b-6b98-4d0b-c892-b3a5fbe993fb"
   },
   "outputs": [
    {
     "data": {
      "text/plain": [
       "PredictionOutput(predictions=array([[0.69623125, 0.23318861],\n",
       "       [0.67265457, 0.21212445],\n",
       "       [0.68837655, 0.2168484 ],\n",
       "       [0.6931119 , 0.21884379],\n",
       "       [0.6847895 , 0.22278383],\n",
       "       [0.67528355, 0.20585334],\n",
       "       [0.69802606, 0.22489867],\n",
       "       [0.7070769 , 0.22724646],\n",
       "       [0.68268645, 0.21629536],\n",
       "       [0.6867313 , 0.22754224],\n",
       "       [0.71602046, 0.24479869],\n",
       "       [0.69995433, 0.22584084],\n",
       "       [0.68250686, 0.21888304],\n",
       "       [0.67402995, 0.21967202],\n",
       "       [0.6997488 , 0.2394867 ],\n",
       "       [0.70849216, 0.23899332],\n",
       "       [0.68106616, 0.21345602],\n",
       "       [0.6925072 , 0.22786203],\n",
       "       [0.6883404 , 0.22773927],\n",
       "       [0.6952696 , 0.21590982],\n",
       "       [0.6589093 , 0.19624092],\n",
       "       [0.6833111 , 0.21731493],\n",
       "       [0.6743947 , 0.20968682],\n",
       "       [0.7070571 , 0.22855514],\n",
       "       [0.71684223, 0.23521319],\n",
       "       [0.6711915 , 0.1974179 ],\n",
       "       [0.6855063 , 0.23281386],\n",
       "       [0.6879985 , 0.22059882],\n",
       "       [0.7017285 , 0.24094823],\n",
       "       [0.707795  , 0.24590221],\n",
       "       [0.6815376 , 0.20799537],\n",
       "       [0.6796653 , 0.23584217],\n",
       "       [0.7138602 , 0.23945317],\n",
       "       [0.68740195, 0.21836895],\n",
       "       [0.6891477 , 0.22465195],\n",
       "       [0.6896406 , 0.23698467],\n",
       "       [0.7028155 , 0.23512247],\n",
       "       [0.68631446, 0.225606  ],\n",
       "       [0.69386864, 0.21920416],\n",
       "       [0.6880242 , 0.22829211],\n",
       "       [0.69323665, 0.23017192],\n",
       "       [0.63932115, 0.19384676],\n",
       "       [0.6907317 , 0.21634085],\n",
       "       [0.6879238 , 0.21169582],\n",
       "       [0.6940105 , 0.22873163],\n",
       "       [0.67308086, 0.23286995],\n",
       "       [0.6786707 , 0.23277739],\n",
       "       [0.6798684 , 0.20912164],\n",
       "       [0.6927071 , 0.23354127],\n",
       "       [0.66869664, 0.19468221],\n",
       "       [0.6409977 , 0.17032287],\n",
       "       [0.65194356, 0.21285993],\n",
       "       [0.67805433, 0.23244342],\n",
       "       [0.69262666, 0.22005373],\n",
       "       [0.70710164, 0.23286293],\n",
       "       [0.7057404 , 0.22721887],\n",
       "       [0.6197572 , 0.17625305],\n",
       "       [0.68502617, 0.22146417],\n",
       "       [0.66962206, 0.21729949],\n",
       "       [0.68972623, 0.227238  ],\n",
       "       [0.6985901 , 0.24021116],\n",
       "       [0.7144    , 0.2435844 ],\n",
       "       [0.70321345, 0.22919768],\n",
       "       [0.6775212 , 0.23766604],\n",
       "       [0.6970238 , 0.23482993],\n",
       "       [0.6962222 , 0.2332479 ],\n",
       "       [0.6807524 , 0.24045411],\n",
       "       [0.6918037 , 0.24061364],\n",
       "       [0.70001966, 0.23000427],\n",
       "       [0.6752986 , 0.22085206],\n",
       "       [0.7016377 , 0.22862652],\n",
       "       [0.7048471 , 0.2368871 ],\n",
       "       [0.69287837, 0.23880929],\n",
       "       [0.6889818 , 0.22147554],\n",
       "       [0.65954137, 0.21400872],\n",
       "       [0.66759807, 0.17556055],\n",
       "       [0.6457698 , 0.18369691],\n",
       "       [0.6783034 , 0.23381977],\n",
       "       [0.68735266, 0.2187703 ],\n",
       "       [0.67876846, 0.21814561],\n",
       "       [0.69816554, 0.22010237],\n",
       "       [0.6803718 , 0.21863446],\n",
       "       [0.69331235, 0.23174393],\n",
       "       [0.67252374, 0.21161398],\n",
       "       [0.69253075, 0.21272047],\n",
       "       [0.70049775, 0.23726621],\n",
       "       [0.6881555 , 0.21369006],\n",
       "       [0.65669584, 0.20708247],\n",
       "       [0.6959797 , 0.20709285],\n",
       "       [0.68429977, 0.22538581],\n",
       "       [0.6998383 , 0.23652178],\n",
       "       [0.6982488 , 0.23270178],\n",
       "       [0.708613  , 0.23636857],\n",
       "       [0.7103955 , 0.24230665],\n",
       "       [0.7003829 , 0.23747566],\n",
       "       [0.6802784 , 0.23875403],\n",
       "       [0.68481416, 0.22281027],\n",
       "       [0.6825807 , 0.20098981],\n",
       "       [0.70205384, 0.23283213],\n",
       "       [0.6972455 , 0.23249969],\n",
       "       [0.70725   , 0.24126029],\n",
       "       [0.7011064 , 0.23398098],\n",
       "       [0.6638469 , 0.20968089],\n",
       "       [0.6900654 , 0.22870234],\n",
       "       [0.69401914, 0.23447102],\n",
       "       [0.68362886, 0.21465671],\n",
       "       [0.6948328 , 0.23186412],\n",
       "       [0.6431334 , 0.16132   ],\n",
       "       [0.69239736, 0.22369537],\n",
       "       [0.70705175, 0.2427566 ],\n",
       "       [0.6562189 , 0.19823626],\n",
       "       [0.69740707, 0.23299053],\n",
       "       [0.68641835, 0.22058608],\n",
       "       [0.69945276, 0.23796576],\n",
       "       [0.7020359 , 0.2395534 ],\n",
       "       [0.69791627, 0.2238589 ],\n",
       "       [0.6988165 , 0.2210048 ],\n",
       "       [0.69121385, 0.22814885],\n",
       "       [0.69058275, 0.2227433 ],\n",
       "       [0.701287  , 0.21745878],\n",
       "       [0.69774693, 0.23467949],\n",
       "       [0.69282216, 0.22620198],\n",
       "       [0.7116689 , 0.23665652],\n",
       "       [0.6848134 , 0.23729944],\n",
       "       [0.69300264, 0.2258511 ],\n",
       "       [0.7016904 , 0.24363866],\n",
       "       [0.67509115, 0.22725652],\n",
       "       [0.69705147, 0.22378227],\n",
       "       [0.6916272 , 0.22641507],\n",
       "       [0.6565553 , 0.19335788],\n",
       "       [0.6592705 , 0.19478951],\n",
       "       [0.66458935, 0.21128055],\n",
       "       [0.682433  , 0.20193943],\n",
       "       [0.6882111 , 0.21989825],\n",
       "       [0.6595424 , 0.19870695],\n",
       "       [0.70211756, 0.22165391],\n",
       "       [0.69487715, 0.21525694],\n",
       "       [0.69219846, 0.2330133 ],\n",
       "       [0.67307615, 0.2158851 ],\n",
       "       [0.69678664, 0.22953498],\n",
       "       [0.682411  , 0.23660417],\n",
       "       [0.6868835 , 0.23217878],\n",
       "       [0.6500953 , 0.15148802],\n",
       "       [0.6961321 , 0.23489664],\n",
       "       [0.7024769 , 0.24656558],\n",
       "       [0.6902543 , 0.22531787],\n",
       "       [0.6882941 , 0.22881086],\n",
       "       [0.696604  , 0.21054165],\n",
       "       [0.6987184 , 0.23807856],\n",
       "       [0.6959812 , 0.227411  ],\n",
       "       [0.6713513 , 0.21244472],\n",
       "       [0.68134797, 0.23440781],\n",
       "       [0.6821971 , 0.22608349],\n",
       "       [0.6943814 , 0.23623103],\n",
       "       [0.69956803, 0.23714301],\n",
       "       [0.69065285, 0.22355166],\n",
       "       [0.669062  , 0.20248401],\n",
       "       [0.65886533, 0.19125201],\n",
       "       [0.6860583 , 0.23097548],\n",
       "       [0.71688896, 0.2429373 ],\n",
       "       [0.6446358 , 0.17105097],\n",
       "       [0.6859349 , 0.24211246],\n",
       "       [0.6835398 , 0.23524825],\n",
       "       [0.68424404, 0.21727228],\n",
       "       [0.68120426, 0.21978644],\n",
       "       [0.69337237, 0.21774569],\n",
       "       [0.66936034, 0.22112083],\n",
       "       [0.68730146, 0.22865056],\n",
       "       [0.6988972 , 0.22476304],\n",
       "       [0.6910148 , 0.2226979 ],\n",
       "       [0.68887776, 0.22636549],\n",
       "       [0.66623497, 0.20664524],\n",
       "       [0.7009914 , 0.2359633 ],\n",
       "       [0.68011314, 0.22990745],\n",
       "       [0.6645627 , 0.22862439],\n",
       "       [0.69921917, 0.22077556],\n",
       "       [0.6890093 , 0.2278819 ],\n",
       "       [0.68822336, 0.20679644],\n",
       "       [0.6522167 , 0.21759933],\n",
       "       [0.70115095, 0.24264425],\n",
       "       [0.68139356, 0.20347825],\n",
       "       [0.691468  , 0.2364374 ],\n",
       "       [0.70177615, 0.230423  ],\n",
       "       [0.6977976 , 0.21788833],\n",
       "       [0.7022215 , 0.2160011 ],\n",
       "       [0.7120204 , 0.24878831],\n",
       "       [0.7091844 , 0.2366075 ],\n",
       "       [0.6974541 , 0.23799941],\n",
       "       [0.6962133 , 0.23591599],\n",
       "       [0.70380586, 0.239051  ],\n",
       "       [0.69427073, 0.23986912],\n",
       "       [0.6949393 , 0.23521914],\n",
       "       [0.69680977, 0.23202577],\n",
       "       [0.69088846, 0.22110829],\n",
       "       [0.6759703 , 0.20727825],\n",
       "       [0.6909918 , 0.22723663],\n",
       "       [0.68984544, 0.23670769],\n",
       "       [0.7000058 , 0.20616585],\n",
       "       [0.6900376 , 0.23453078],\n",
       "       [0.6727602 , 0.2284911 ],\n",
       "       [0.69847786, 0.23690829],\n",
       "       [0.7060631 , 0.24172047],\n",
       "       [0.6832608 , 0.22819798],\n",
       "       [0.68739104, 0.21949828],\n",
       "       [0.70337665, 0.22703713],\n",
       "       [0.6818871 , 0.21020979],\n",
       "       [0.6670869 , 0.16605219],\n",
       "       [0.657233  , 0.18602584],\n",
       "       [0.68083566, 0.2149534 ],\n",
       "       [0.6747766 , 0.22260267],\n",
       "       [0.6557982 , 0.21181741],\n",
       "       [0.69432515, 0.23228744],\n",
       "       [0.6918367 , 0.23819949],\n",
       "       [0.6996747 , 0.23158756],\n",
       "       [0.67726266, 0.21801925],\n",
       "       [0.6939125 , 0.23399493],\n",
       "       [0.68733394, 0.23477021],\n",
       "       [0.6879916 , 0.21809071],\n",
       "       [0.66801244, 0.21383706],\n",
       "       [0.6843758 , 0.19040266],\n",
       "       [0.67436486, 0.22872038],\n",
       "       [0.6951521 , 0.22343913],\n",
       "       [0.6680434 , 0.22281966],\n",
       "       [0.6570196 , 0.1539058 ],\n",
       "       [0.68941873, 0.22856133],\n",
       "       [0.6642421 , 0.20589852],\n",
       "       [0.69059366, 0.21944794],\n",
       "       [0.70085764, 0.23175836],\n",
       "       [0.69009906, 0.22042096],\n",
       "       [0.6882322 , 0.2253209 ],\n",
       "       [0.6834444 , 0.22779742],\n",
       "       [0.6776362 , 0.21093044],\n",
       "       [0.68973255, 0.22961973],\n",
       "       [0.68260205, 0.22983682],\n",
       "       [0.70037544, 0.23102546],\n",
       "       [0.6758109 , 0.21300519],\n",
       "       [0.6860117 , 0.22922422],\n",
       "       [0.7061768 , 0.23809458],\n",
       "       [0.69531715, 0.24175704],\n",
       "       [0.68249273, 0.22539453],\n",
       "       [0.6971838 , 0.2213569 ],\n",
       "       [0.6715229 , 0.20758758],\n",
       "       [0.6982274 , 0.2361378 ],\n",
       "       [0.67186654, 0.22148687],\n",
       "       [0.6932438 , 0.23856634],\n",
       "       [0.6677159 , 0.22719634],\n",
       "       [0.6842639 , 0.22233221],\n",
       "       [0.67306966, 0.19530013],\n",
       "       [0.71494675, 0.2439357 ],\n",
       "       [0.6732621 , 0.21074173],\n",
       "       [0.6911379 , 0.22201395],\n",
       "       [0.69447416, 0.2126412 ],\n",
       "       [0.6954253 , 0.23804626],\n",
       "       [0.6787849 , 0.21772997],\n",
       "       [0.6938456 , 0.22467777],\n",
       "       [0.68844664, 0.21186101],\n",
       "       [0.7016932 , 0.22955322],\n",
       "       [0.6988207 , 0.22300911],\n",
       "       [0.7058285 , 0.22904891],\n",
       "       [0.70262074, 0.23734039],\n",
       "       [0.6922531 , 0.22705   ],\n",
       "       [0.6894443 , 0.21599887],\n",
       "       [0.6951262 , 0.2293107 ],\n",
       "       [0.7035654 , 0.22791526],\n",
       "       [0.69320136, 0.22557372],\n",
       "       [0.6554127 , 0.17380932],\n",
       "       [0.6844335 , 0.21889402],\n",
       "       [0.66791904, 0.20183823],\n",
       "       [0.6632205 , 0.22072965],\n",
       "       [0.6852948 , 0.22091275],\n",
       "       [0.68604755, 0.21528918],\n",
       "       [0.6823565 , 0.21201849],\n",
       "       [0.69258595, 0.22298226],\n",
       "       [0.6875253 , 0.23917809],\n",
       "       [0.7046315 , 0.24077833],\n",
       "       [0.7038705 , 0.2372145 ],\n",
       "       [0.68711233, 0.21065521],\n",
       "       [0.69919467, 0.2360946 ],\n",
       "       [0.66243696, 0.22096843],\n",
       "       [0.71032345, 0.23796365],\n",
       "       [0.67897475, 0.20124629],\n",
       "       [0.69581646, 0.2307601 ],\n",
       "       [0.69972694, 0.24627692],\n",
       "       [0.68446094, 0.21032181],\n",
       "       [0.6939769 , 0.23282276],\n",
       "       [0.69704294, 0.22702128],\n",
       "       [0.66761196, 0.22054118],\n",
       "       [0.6805205 , 0.2074729 ],\n",
       "       [0.7025373 , 0.2353931 ],\n",
       "       [0.6651748 , 0.22571677],\n",
       "       [0.68842417, 0.1905745 ],\n",
       "       [0.6697633 , 0.21612692],\n",
       "       [0.6889886 , 0.2211608 ],\n",
       "       [0.6789371 , 0.22598568],\n",
       "       [0.68223894, 0.22088575],\n",
       "       [0.69058466, 0.19965267],\n",
       "       [0.69745266, 0.2260734 ],\n",
       "       [0.6326206 , 0.15552682],\n",
       "       [0.697342  , 0.23301664],\n",
       "       [0.6199122 , 0.13662171],\n",
       "       [0.6794156 , 0.22382224],\n",
       "       [0.6791152 , 0.22676337],\n",
       "       [0.6782084 , 0.22916102],\n",
       "       [0.7098004 , 0.23982814],\n",
       "       [0.6980733 , 0.22345424],\n",
       "       [0.69763404, 0.2426657 ],\n",
       "       [0.704798  , 0.23496747],\n",
       "       [0.7050645 , 0.23637567],\n",
       "       [0.70249957, 0.22737053],\n",
       "       [0.7003427 , 0.22671497],\n",
       "       [0.6888896 , 0.23715441],\n",
       "       [0.7022941 , 0.2230904 ],\n",
       "       [0.6564132 , 0.19430372],\n",
       "       [0.6893937 , 0.22557396],\n",
       "       [0.70734036, 0.24025112],\n",
       "       [0.6998297 , 0.24115466],\n",
       "       [0.70403314, 0.22481658],\n",
       "       [0.7047833 , 0.23301892],\n",
       "       [0.6767169 , 0.19615373],\n",
       "       [0.6708121 , 0.20555545],\n",
       "       [0.70538586, 0.21105878],\n",
       "       [0.7205173 , 0.23723277],\n",
       "       [0.675161  , 0.22131172],\n",
       "       [0.67505014, 0.19899559],\n",
       "       [0.69582146, 0.22434376],\n",
       "       [0.66561437, 0.21625194],\n",
       "       [0.68343467, 0.22364321],\n",
       "       [0.6862772 , 0.2184648 ],\n",
       "       [0.6965034 , 0.23380461],\n",
       "       [0.6779665 , 0.2320057 ],\n",
       "       [0.6759125 , 0.2289076 ],\n",
       "       [0.6916884 , 0.22001666],\n",
       "       [0.69872206, 0.23823592],\n",
       "       [0.688129  , 0.2252584 ],\n",
       "       [0.67886233, 0.21530694],\n",
       "       [0.7049525 , 0.24641669],\n",
       "       [0.66836935, 0.18349895],\n",
       "       [0.70308304, 0.24283846],\n",
       "       [0.68831867, 0.22009882],\n",
       "       [0.69513845, 0.22656314],\n",
       "       [0.69818276, 0.24792898],\n",
       "       [0.6845596 , 0.23044384],\n",
       "       [0.6996808 , 0.22952037],\n",
       "       [0.6676161 , 0.1902231 ],\n",
       "       [0.6963252 , 0.23312718],\n",
       "       [0.6953447 , 0.22755376],\n",
       "       [0.6988196 , 0.2314913 ],\n",
       "       [0.69349605, 0.23705418],\n",
       "       [0.69896436, 0.23092961],\n",
       "       [0.6901946 , 0.23202011],\n",
       "       [0.6987477 , 0.23771359],\n",
       "       [0.68747747, 0.22813527],\n",
       "       [0.6833819 , 0.22370887],\n",
       "       [0.70675236, 0.24429482],\n",
       "       [0.6964888 , 0.23404232],\n",
       "       [0.6716959 , 0.20487706],\n",
       "       [0.696781  , 0.21995988],\n",
       "       [0.7075897 , 0.23283681],\n",
       "       [0.6928475 , 0.2401956 ],\n",
       "       [0.6828429 , 0.22376442],\n",
       "       [0.67880964, 0.21056071],\n",
       "       [0.6502432 , 0.1866386 ],\n",
       "       [0.690995  , 0.23317179],\n",
       "       [0.6811893 , 0.22992755],\n",
       "       [0.6771148 , 0.24103531],\n",
       "       [0.7054868 , 0.24641857],\n",
       "       [0.7145862 , 0.24037743],\n",
       "       [0.68895024, 0.23039198],\n",
       "       [0.6794585 , 0.20018454],\n",
       "       [0.6617893 , 0.21286064],\n",
       "       [0.6886698 , 0.22313263],\n",
       "       [0.68381387, 0.21993417],\n",
       "       [0.69314003, 0.23214631],\n",
       "       [0.6866311 , 0.21401125],\n",
       "       [0.68715215, 0.21788758],\n",
       "       [0.70006543, 0.22071525],\n",
       "       [0.6836083 , 0.23433569],\n",
       "       [0.6999196 , 0.2378709 ],\n",
       "       [0.69973195, 0.23630902],\n",
       "       [0.67742527, 0.24113858],\n",
       "       [0.6732783 , 0.21118373],\n",
       "       [0.6849124 , 0.22387701],\n",
       "       [0.68854356, 0.22792327],\n",
       "       [0.68999547, 0.23540607],\n",
       "       [0.693109  , 0.2349244 ],\n",
       "       [0.6916307 , 0.23715082],\n",
       "       [0.68381095, 0.19922996],\n",
       "       [0.67334694, 0.19289416],\n",
       "       [0.68999004, 0.23183328],\n",
       "       [0.6904224 , 0.2366825 ],\n",
       "       [0.6866498 , 0.23023675],\n",
       "       [0.6806059 , 0.22751209],\n",
       "       [0.7026846 , 0.24084738],\n",
       "       [0.6787716 , 0.22716734],\n",
       "       [0.7084749 , 0.23663512],\n",
       "       [0.6686451 , 0.20647511],\n",
       "       [0.68667847, 0.22629961],\n",
       "       [0.671538  , 0.20204239],\n",
       "       [0.6669647 , 0.1941666 ],\n",
       "       [0.6862203 , 0.22756574],\n",
       "       [0.69096196, 0.23338355],\n",
       "       [0.68354213, 0.23965026],\n",
       "       [0.6709439 , 0.20403752],\n",
       "       [0.67802745, 0.2197149 ],\n",
       "       [0.684502  , 0.22631133],\n",
       "       [0.69516164, 0.23498476],\n",
       "       [0.6809102 , 0.21122053],\n",
       "       [0.71569204, 0.23912272]], dtype=float32), label_ids=array([1, 0, 0, 1, 0, 1, 0, 1, 1, 1, 1, 0, 0, 1, 1, 1, 1, 0, 1, 0, 0, 1,\n",
       "       0, 1, 1, 1, 0, 1, 1, 1, 0, 1, 1, 1, 1, 0, 0, 0, 1, 1, 0, 1, 0, 0,\n",
       "       0, 1, 1, 0, 1, 1, 1, 1, 1, 1, 1, 1, 1, 1, 1, 1, 0, 1, 1, 1, 1, 0,\n",
       "       1, 1, 0, 1, 1, 1, 1, 1, 1, 1, 0, 1, 1, 1, 0, 1, 1, 0, 1, 0, 1, 0,\n",
       "       1, 1, 0, 1, 1, 0, 1, 1, 0, 1, 1, 1, 1, 1, 1, 1, 0, 1, 1, 0, 0, 1,\n",
       "       1, 1, 1, 1, 0, 0, 1, 1, 1, 1, 1, 1, 0, 1, 1, 1, 1, 0, 1, 1, 1, 0,\n",
       "       1, 0, 1, 1, 0, 0, 1, 0, 1, 0, 0, 1, 0, 0, 1, 1, 1, 1, 0, 1, 1, 1,\n",
       "       1, 1, 1, 0, 0, 1, 1, 1, 1, 1, 1, 1, 1, 0, 1, 0, 0, 1, 1, 1, 0, 1,\n",
       "       1, 0, 1, 1, 0, 0, 1, 1, 0, 1, 0, 1, 0, 1, 1, 0, 1, 1, 0, 1, 1, 0,\n",
       "       1, 1, 1, 0, 1, 1, 1, 0, 1, 1, 1, 0, 0, 1, 1, 0, 1, 1, 1, 1, 0, 1,\n",
       "       1, 1, 1, 0, 1, 1, 1, 1, 1, 1, 1, 1, 1, 1, 1, 0, 1, 0, 1, 0, 1, 0,\n",
       "       1, 1, 1, 1, 1, 0, 1, 1, 1, 0, 1, 0, 1, 0, 1, 1, 1, 0, 1, 0, 1, 1,\n",
       "       0, 1, 1, 0, 0, 1, 0, 1, 1, 1, 1, 1, 1, 1, 1, 0, 1, 1, 1, 0, 0, 1,\n",
       "       1, 1, 1, 1, 1, 0, 1, 1, 1, 0, 0, 0, 1, 1, 1, 1, 1, 1, 1, 1, 0, 1,\n",
       "       0, 0, 0, 1, 1, 0, 1, 0, 1, 1, 0, 0, 0, 0, 0, 1, 0, 1, 0, 1, 1, 1,\n",
       "       1, 1, 0, 1, 1, 1, 1, 0, 0, 1, 1, 1, 0, 0, 1, 1, 1, 1, 0, 1, 0, 1,\n",
       "       0, 1, 0, 0, 1, 1, 1, 1, 0, 1, 1, 0, 1, 1, 0, 1, 0, 0, 1, 1, 1, 1,\n",
       "       0, 0, 0, 0, 1, 1, 1, 1, 0, 1, 1, 0, 1, 0, 1, 1, 1, 1, 1, 1, 1, 1,\n",
       "       1, 1, 1, 1, 0, 1, 1, 0, 1, 1, 0, 1]), metrics={'test_loss': 0.8044962882995605, 'test_model_preparation_time': 0.0032, 'test_runtime': 0.8253, 'test_samples_per_second': 494.354, 'test_steps_per_second': 61.794})"
      ]
     },
     "execution_count": 56,
     "metadata": {},
     "output_type": "execute_result"
    }
   ],
   "source": [
    "predictions"
   ]
  },
  {
   "cell_type": "code",
   "execution_count": null,
   "id": "feef0a69",
   "metadata": {
    "id": "feef0a69"
   },
   "outputs": [],
   "source": [
    "import numpy as np\n",
    "\n",
    "preds = np.argmax(predictions.predictions, axis=-1)"
   ]
  },
  {
   "cell_type": "code",
   "execution_count": null,
   "id": "L_F4XJEXt79D",
   "metadata": {
    "colab": {
     "base_uri": "https://localhost:8080/"
    },
    "executionInfo": {
     "elapsed": 19,
     "status": "ok",
     "timestamp": 1753281557866,
     "user": {
      "displayName": "Rafał Kuśmierz",
      "userId": "04197265197636411235"
     },
     "user_tz": -120
    },
    "id": "L_F4XJEXt79D",
    "outputId": "2906eeea-1108-41ad-b4f1-dac97f371521"
   },
   "outputs": [
    {
     "data": {
      "text/plain": [
       "array([0, 0, 0, 0, 0, 0, 0, 0, 0, 0, 0, 0, 0, 0, 0, 0, 0, 0, 0, 0, 0, 0,\n",
       "       0, 0, 0, 0, 0, 0, 0, 0, 0, 0, 0, 0, 0, 0, 0, 0, 0, 0, 0, 0, 0, 0,\n",
       "       0, 0, 0, 0, 0, 0, 0, 0, 0, 0, 0, 0, 0, 0, 0, 0, 0, 0, 0, 0, 0, 0,\n",
       "       0, 0, 0, 0, 0, 0, 0, 0, 0, 0, 0, 0, 0, 0, 0, 0, 0, 0, 0, 0, 0, 0,\n",
       "       0, 0, 0, 0, 0, 0, 0, 0, 0, 0, 0, 0, 0, 0, 0, 0, 0, 0, 0, 0, 0, 0,\n",
       "       0, 0, 0, 0, 0, 0, 0, 0, 0, 0, 0, 0, 0, 0, 0, 0, 0, 0, 0, 0, 0, 0,\n",
       "       0, 0, 0, 0, 0, 0, 0, 0, 0, 0, 0, 0, 0, 0, 0, 0, 0, 0, 0, 0, 0, 0,\n",
       "       0, 0, 0, 0, 0, 0, 0, 0, 0, 0, 0, 0, 0, 0, 0, 0, 0, 0, 0, 0, 0, 0,\n",
       "       0, 0, 0, 0, 0, 0, 0, 0, 0, 0, 0, 0, 0, 0, 0, 0, 0, 0, 0, 0, 0, 0,\n",
       "       0, 0, 0, 0, 0, 0, 0, 0, 0, 0, 0, 0, 0, 0, 0, 0, 0, 0, 0, 0, 0, 0,\n",
       "       0, 0, 0, 0, 0, 0, 0, 0, 0, 0, 0, 0, 0, 0, 0, 0, 0, 0, 0, 0, 0, 0,\n",
       "       0, 0, 0, 0, 0, 0, 0, 0, 0, 0, 0, 0, 0, 0, 0, 0, 0, 0, 0, 0, 0, 0,\n",
       "       0, 0, 0, 0, 0, 0, 0, 0, 0, 0, 0, 0, 0, 0, 0, 0, 0, 0, 0, 0, 0, 0,\n",
       "       0, 0, 0, 0, 0, 0, 0, 0, 0, 0, 0, 0, 0, 0, 0, 0, 0, 0, 0, 0, 0, 0,\n",
       "       0, 0, 0, 0, 0, 0, 0, 0, 0, 0, 0, 0, 0, 0, 0, 0, 0, 0, 0, 0, 0, 0,\n",
       "       0, 0, 0, 0, 0, 0, 0, 0, 0, 0, 0, 0, 0, 0, 0, 0, 0, 0, 0, 0, 0, 0,\n",
       "       0, 0, 0, 0, 0, 0, 0, 0, 0, 0, 0, 0, 0, 0, 0, 0, 0, 0, 0, 0, 0, 0,\n",
       "       0, 0, 0, 0, 0, 0, 0, 0, 0, 0, 0, 0, 0, 0, 0, 0, 0, 0, 0, 0, 0, 0,\n",
       "       0, 0, 0, 0, 0, 0, 0, 0, 0, 0, 0, 0])"
      ]
     },
     "execution_count": 59,
     "metadata": {},
     "output_type": "execute_result"
    }
   ],
   "source": [
    "# without training model predicts 0 for every sample\n",
    "preds"
   ]
  },
  {
   "cell_type": "code",
   "execution_count": null,
   "id": "MIRpv1l9uc8l",
   "metadata": {
    "colab": {
     "base_uri": "https://localhost:8080/",
     "height": 188
    },
    "executionInfo": {
     "elapsed": 124751,
     "status": "ok",
     "timestamp": 1753281709429,
     "user": {
      "displayName": "Rafał Kuśmierz",
      "userId": "04197265197636411235"
     },
     "user_tz": -120
    },
    "id": "MIRpv1l9uc8l",
    "outputId": "26172008-af7a-4048-b6ba-eb2513f2d08a"
   },
   "outputs": [
    {
     "data": {
      "text/html": [
       "\n",
       "    <div>\n",
       "      \n",
       "      <progress value='1377' max='1377' style='width:300px; height:20px; vertical-align: middle;'></progress>\n",
       "      [1377/1377 02:04, Epoch 3/3]\n",
       "    </div>\n",
       "    <table border=\"1\" class=\"dataframe\">\n",
       "  <thead>\n",
       " <tr style=\"text-align: left;\">\n",
       "      <th>Step</th>\n",
       "      <th>Training Loss</th>\n",
       "    </tr>\n",
       "  </thead>\n",
       "  <tbody>\n",
       "    <tr>\n",
       "      <td>500</td>\n",
       "      <td>0.534900</td>\n",
       "    </tr>\n",
       "    <tr>\n",
       "      <td>1000</td>\n",
       "      <td>0.311200</td>\n",
       "    </tr>\n",
       "  </tbody>\n",
       "</table><p>"
      ],
      "text/plain": [
       "<IPython.core.display.HTML object>"
      ]
     },
     "metadata": {},
     "output_type": "display_data"
    },
    {
     "data": {
      "text/plain": [
       "TrainOutput(global_step=1377, training_loss=0.3498992088833146, metrics={'train_runtime': 124.7341, 'train_samples_per_second': 88.22, 'train_steps_per_second': 11.039, 'total_flos': 405114969714960.0, 'train_loss': 0.3498992088833146, 'epoch': 3.0})"
      ]
     },
     "execution_count": 60,
     "metadata": {},
     "output_type": "execute_result"
    }
   ],
   "source": [
    "# lets train our model for new task type - classification\n",
    "trainer.train()"
   ]
  },
  {
   "cell_type": "code",
   "execution_count": null,
   "id": "PHyjfJVVuoEQ",
   "metadata": {
    "colab": {
     "base_uri": "https://localhost:8080/",
     "height": 340
    },
    "executionInfo": {
     "elapsed": 828,
     "status": "ok",
     "timestamp": 1753281716941,
     "user": {
      "displayName": "Rafał Kuśmierz",
      "userId": "04197265197636411235"
     },
     "user_tz": -120
    },
    "id": "PHyjfJVVuoEQ",
    "outputId": "3e2a2232-d95e-4c67-a857-691dc74aed6c"
   },
   "outputs": [
    {
     "data": {
      "text/html": [],
      "text/plain": [
       "<IPython.core.display.HTML object>"
      ]
     },
     "metadata": {},
     "output_type": "display_data"
    },
    {
     "data": {
      "text/plain": [
       "array([1, 0, 1, 1, 0, 1, 1, 1, 1, 1, 1, 0, 0, 1, 1, 1, 1, 0, 1, 0, 0, 1,\n",
       "       0, 1, 1, 1, 0, 1, 1, 1, 0, 1, 0, 1, 1, 1, 0, 0, 1, 1, 0, 1, 0, 0,\n",
       "       1, 1, 1, 0, 1, 1, 1, 1, 1, 1, 1, 1, 1, 1, 1, 1, 1, 1, 1, 1, 1, 0,\n",
       "       1, 1, 0, 1, 1, 0, 1, 1, 1, 1, 1, 1, 1, 1, 1, 1, 1, 0, 1, 1, 1, 1,\n",
       "       1, 1, 1, 1, 1, 0, 1, 1, 0, 1, 1, 1, 1, 0, 1, 1, 0, 1, 1, 0, 0, 1,\n",
       "       1, 1, 1, 1, 1, 0, 1, 1, 1, 1, 1, 1, 0, 1, 1, 1, 1, 0, 1, 1, 1, 0,\n",
       "       1, 0, 1, 1, 0, 0, 1, 1, 1, 0, 0, 1, 0, 1, 1, 1, 0, 1, 0, 1, 1, 1,\n",
       "       0, 1, 1, 1, 0, 1, 1, 1, 1, 1, 1, 1, 1, 0, 1, 0, 1, 0, 0, 1, 0, 1,\n",
       "       1, 0, 1, 1, 0, 1, 1, 1, 1, 1, 0, 0, 0, 1, 1, 0, 1, 1, 1, 1, 1, 1,\n",
       "       1, 1, 1, 1, 1, 1, 1, 0, 1, 1, 0, 0, 0, 1, 1, 0, 1, 1, 0, 1, 0, 1,\n",
       "       0, 1, 1, 0, 1, 1, 1, 1, 1, 1, 1, 1, 1, 0, 1, 0, 1, 0, 1, 1, 1, 0,\n",
       "       1, 1, 1, 1, 1, 1, 1, 1, 1, 0, 1, 1, 0, 0, 1, 1, 1, 0, 1, 0, 1, 1,\n",
       "       1, 1, 1, 0, 0, 1, 0, 1, 1, 1, 1, 1, 1, 1, 1, 0, 1, 1, 0, 0, 0, 1,\n",
       "       1, 1, 1, 1, 1, 0, 1, 1, 1, 0, 0, 1, 1, 0, 1, 1, 1, 0, 1, 1, 0, 1,\n",
       "       0, 1, 1, 1, 0, 0, 1, 0, 0, 1, 0, 0, 0, 0, 0, 1, 0, 1, 1, 1, 1, 1,\n",
       "       1, 1, 1, 1, 1, 1, 1, 1, 0, 0, 1, 1, 0, 1, 1, 1, 1, 1, 1, 1, 0, 1,\n",
       "       1, 1, 0, 0, 1, 1, 1, 1, 1, 1, 1, 0, 1, 1, 1, 1, 0, 0, 1, 1, 1, 1,\n",
       "       0, 0, 1, 0, 1, 1, 1, 1, 1, 1, 1, 0, 1, 1, 1, 0, 1, 1, 1, 1, 1, 1,\n",
       "       1, 1, 1, 1, 0, 1, 1, 0, 1, 1, 0, 1])"
      ]
     },
     "execution_count": 61,
     "metadata": {},
     "output_type": "execute_result"
    }
   ],
   "source": [
    "# after training predictions differs\n",
    "predictions = trainer.predict(tokenized_datasets[\"validation\"])\n",
    "preds = np.argmax(predictions.predictions, axis=-1)\n",
    "preds"
   ]
  },
  {
   "cell_type": "code",
   "execution_count": null,
   "id": "n8Wfq1wSwBKC",
   "metadata": {
    "colab": {
     "base_uri": "https://localhost:8080/"
    },
    "executionInfo": {
     "elapsed": 4530,
     "status": "ok",
     "timestamp": 1753282011538,
     "user": {
      "displayName": "Rafał Kuśmierz",
      "userId": "04197265197636411235"
     },
     "user_tz": -120
    },
    "id": "n8Wfq1wSwBKC",
    "outputId": "6b1dda17-5d50-433e-b823-1860f611c037"
   },
   "outputs": [
    {
     "name": "stdout",
     "output_type": "stream",
     "text": [
      "\u001b[?25l   \u001b[90m━━━━━━━━━━━━━━━━━━━━━━━━━━━━━━━━━━━━━━━━\u001b[0m \u001b[32m0.0/84.1 kB\u001b[0m \u001b[31m?\u001b[0m eta \u001b[36m-:--:--\u001b[0m\r\u001b[2K   \u001b[90m━━━━━━━━━━━━━━━━━━━━━━━━━━━━━━━━━━━━━━━━\u001b[0m \u001b[32m84.1/84.1 kB\u001b[0m \u001b[31m4.0 MB/s\u001b[0m eta \u001b[36m0:00:00\u001b[0m\n",
      "\u001b[?25h"
     ]
    }
   ],
   "source": [
    "!pip install -qU evaluate"
   ]
  },
  {
   "cell_type": "code",
   "execution_count": null,
   "id": "8r9ntUVivkcd",
   "metadata": {
    "colab": {
     "base_uri": "https://localhost:8080/",
     "height": 66,
     "referenced_widgets": [
      "e36dcdd50f95498abad8028af1b0d91d",
      "6e05966bec124b74886b5ccd0664d934",
      "3f47ea76110f4eaea6e6a4a2d7632084",
      "16d34c6bdf8e4f9e9dbfa95b70b074ea",
      "2d9d9e86f9224b519a15d8b091ac755e",
      "abfb2a77b72d428f9538a14dc7a3d3c5",
      "261ac8c8d5384089b3216798b9bae597",
      "c0d4d0a67a8642fdbc6b68f47edb7505",
      "ff5cdc16c0b545a895f01961239e96d3",
      "659349a58b6048a89a64a1553d1726ed",
      "6caf5dbbe50f4e32a87a492ec276bbf5"
     ]
    },
    "executionInfo": {
     "elapsed": 1044,
     "status": "ok",
     "timestamp": 1753282012585,
     "user": {
      "displayName": "Rafał Kuśmierz",
      "userId": "04197265197636411235"
     },
     "user_tz": -120
    },
    "id": "8r9ntUVivkcd",
    "outputId": "08bf864e-d489-46a3-f759-81f13f2ba55e"
   },
   "outputs": [
    {
     "data": {
      "application/vnd.jupyter.widget-view+json": {
       "model_id": "e36dcdd50f95498abad8028af1b0d91d",
       "version_major": 2,
       "version_minor": 0
      },
      "text/plain": [
       "Downloading builder script: 0.00B [00:00, ?B/s]"
      ]
     },
     "metadata": {},
     "output_type": "display_data"
    },
    {
     "data": {
      "text/plain": [
       "{'accuracy': 0.8578431372549019, 'f1': 0.8993055555555556}"
      ]
     },
     "execution_count": 64,
     "metadata": {},
     "output_type": "execute_result"
    }
   ],
   "source": [
    "import evaluate\n",
    "\n",
    "metric = evaluate.load(\"glue\", \"mrpc\")\n",
    "metric.compute(predictions=preds, references=predictions.label_ids)"
   ]
  },
  {
   "cell_type": "code",
   "execution_count": null,
   "id": "bXDTegLEwm2R",
   "metadata": {
    "id": "bXDTegLEwm2R"
   },
   "outputs": [],
   "source": [
    "def compute_metrics(eval_preds):\n",
    "    metric = evaluate.load(\"glue\", \"mrpc\")\n",
    "    logits, labels = eval_preds\n",
    "    predictions = np.argmax(logits, axis=-1)\n",
    "    return metric.compute(predictions=predictions, references=labels)"
   ]
  },
  {
   "cell_type": "code",
   "execution_count": null,
   "id": "ywT6kDmAw3Aj",
   "metadata": {
    "colab": {
     "base_uri": "https://localhost:8080/"
    },
    "executionInfo": {
     "elapsed": 334,
     "status": "ok",
     "timestamp": 1753282259915,
     "user": {
      "displayName": "Rafał Kuśmierz",
      "userId": "04197265197636411235"
     },
     "user_tz": -120
    },
    "id": "ywT6kDmAw3Aj",
    "outputId": "bd079efc-9378-46dc-bc82-fe7302983f09"
   },
   "outputs": [
    {
     "name": "stderr",
     "output_type": "stream",
     "text": [
      "Using the `WANDB_DISABLED` environment variable is deprecated and will be removed in v5. Use the --report_to flag to control the integrations used for logging result (for instance --report_to none).\n",
      "Some weights of BertForSequenceClassification were not initialized from the model checkpoint at bert-base-uncased and are newly initialized: ['classifier.bias', 'classifier.weight']\n",
      "You should probably TRAIN this model on a down-stream task to be able to use it for predictions and inference.\n"
     ]
    }
   ],
   "source": [
    "training_args = TrainingArguments(\"test-trainer\", eval_strategy=\"epoch\", report_to=None)\n",
    "model = AutoModelForSequenceClassification.from_pretrained(checkpoint, num_labels=2)\n",
    "\n",
    "trainer = Trainer(\n",
    "    model,\n",
    "    training_args,\n",
    "    train_dataset=tokenized_datasets[\"train\"],\n",
    "    eval_dataset=tokenized_datasets[\"validation\"],\n",
    "    data_collator=data_collator,\n",
    "    processing_class=tokenizer,\n",
    "    compute_metrics=compute_metrics,\n",
    ")"
   ]
  },
  {
   "cell_type": "code",
   "execution_count": null,
   "id": "PSBpAjfZxKez",
   "metadata": {
    "colab": {
     "base_uri": "https://localhost:8080/",
     "height": 219
    },
    "executionInfo": {
     "elapsed": 126049,
     "status": "ok",
     "timestamp": 1753282420739,
     "user": {
      "displayName": "Rafał Kuśmierz",
      "userId": "04197265197636411235"
     },
     "user_tz": -120
    },
    "id": "PSBpAjfZxKez",
    "outputId": "cd14006f-e0d4-4aed-e3db-9c11daafac5e"
   },
   "outputs": [
    {
     "data": {
      "text/html": [
       "\n",
       "    <div>\n",
       "      \n",
       "      <progress value='1377' max='1377' style='width:300px; height:20px; vertical-align: middle;'></progress>\n",
       "      [1377/1377 02:05, Epoch 3/3]\n",
       "    </div>\n",
       "    <table border=\"1\" class=\"dataframe\">\n",
       "  <thead>\n",
       " <tr style=\"text-align: left;\">\n",
       "      <th>Epoch</th>\n",
       "      <th>Training Loss</th>\n",
       "      <th>Validation Loss</th>\n",
       "      <th>Accuracy</th>\n",
       "      <th>F1</th>\n",
       "    </tr>\n",
       "  </thead>\n",
       "  <tbody>\n",
       "    <tr>\n",
       "      <td>1</td>\n",
       "      <td>No log</td>\n",
       "      <td>0.486724</td>\n",
       "      <td>0.825980</td>\n",
       "      <td>0.882645</td>\n",
       "    </tr>\n",
       "    <tr>\n",
       "      <td>2</td>\n",
       "      <td>0.557500</td>\n",
       "      <td>0.462080</td>\n",
       "      <td>0.848039</td>\n",
       "      <td>0.896667</td>\n",
       "    </tr>\n",
       "    <tr>\n",
       "      <td>3</td>\n",
       "      <td>0.363800</td>\n",
       "      <td>0.563823</td>\n",
       "      <td>0.857843</td>\n",
       "      <td>0.901361</td>\n",
       "    </tr>\n",
       "  </tbody>\n",
       "</table><p>"
      ],
      "text/plain": [
       "<IPython.core.display.HTML object>"
      ]
     },
     "metadata": {},
     "output_type": "display_data"
    },
    {
     "data": {
      "text/plain": [
       "TrainOutput(global_step=1377, training_loss=0.4016144918027613, metrics={'train_runtime': 125.9762, 'train_samples_per_second': 87.35, 'train_steps_per_second': 10.931, 'total_flos': 405114969714960.0, 'train_loss': 0.4016144918027613, 'epoch': 3.0})"
      ]
     },
     "execution_count": 68,
     "metadata": {},
     "output_type": "execute_result"
    }
   ],
   "source": [
    "trainer.train()"
   ]
  }
 ],
 "metadata": {
  "accelerator": "GPU",
  "colab": {
   "gpuType": "L4",
   "machine_shape": "hm",
   "provenance": [],
   "toc_visible": true
  },
  "kernelspec": {
   "display_name": "Python 3 (ipykernel)",
   "language": "python",
   "name": "python3"
  },
  "language_info": {
   "codemirror_mode": {
    "name": "ipython",
    "version": 3
   },
   "file_extension": ".py",
   "mimetype": "text/x-python",
   "name": "python",
   "nbconvert_exporter": "python",
   "pygments_lexer": "ipython3",
   "version": "3.11.13"
  }
 },
 "nbformat": 4,
 "nbformat_minor": 5
}
